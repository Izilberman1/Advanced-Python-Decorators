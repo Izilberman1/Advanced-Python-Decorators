{
 "cells": [
  {
   "cell_type": "code",
   "execution_count": 7,
   "id": "2d62da38",
   "metadata": {},
   "outputs": [
    {
     "name": "stdout",
     "output_type": "stream",
     "text": [
      "*********\n",
      "hiii :)\n",
      "*********\n"
     ]
    }
   ],
   "source": [
    "#Decorator Pattern\n",
    "def my_decorator(func):\n",
    "    def wrap_func(*args, **kwargs):\n",
    "        print('*********')\n",
    "        func(*args, **kwargs)\n",
    "        print('*********')\n",
    "    return wrap_func\n",
    "\n",
    "@my_decorator\n",
    "def hello(greeting, emoji=':)'):\n",
    "    print(greeting, emoji)\n",
    "\n",
    "hello('hiii')"
   ]
  },
  {
   "cell_type": "code",
   "execution_count": 15,
   "id": "f1142b55",
   "metadata": {},
   "outputs": [
    {
     "name": "stdout",
     "output_type": "stream",
     "text": [
      "took 5.1193153858184814 ms\n"
     ]
    }
   ],
   "source": [
    "#code that checks how long your program takes to run.\n",
    "\n",
    "from time import time\n",
    "def performance(fn):\n",
    "    def wrapper(*args, **kwargs):\n",
    "        t1 = time()\n",
    "        result = fn(*args, **kwargs)\n",
    "        t2 = time()\n",
    "        print(f'took {t2-t1} ms')\n",
    "        return result\n",
    "    return wrapper\n",
    "        \n",
    "@performance\n",
    "def long_time():\n",
    "    for i in range(100000000):\n",
    "        i*5\n",
    "        \n",
    "long_time()"
   ]
  }
 ],
 "metadata": {
  "kernelspec": {
   "display_name": "Python 3 (ipykernel)",
   "language": "python",
   "name": "python3"
  },
  "language_info": {
   "codemirror_mode": {
    "name": "ipython",
    "version": 3
   },
   "file_extension": ".py",
   "mimetype": "text/x-python",
   "name": "python",
   "nbconvert_exporter": "python",
   "pygments_lexer": "ipython3",
   "version": "3.9.13"
  }
 },
 "nbformat": 4,
 "nbformat_minor": 5
}
